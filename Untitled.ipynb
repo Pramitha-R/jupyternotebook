{
 "cells": [
  {
   "cell_type": "code",
   "execution_count": 3,
   "id": "b512a921",
   "metadata": {},
   "outputs": [
    {
     "name": "stdout",
     "output_type": "stream",
     "text": [
      "hey-pemmi\n"
     ]
    }
   ],
   "source": [
    "tu=(\"hey\",\"pemmi\")\n",
    "x=\"-\".join(tu)\n",
    "print(x)"
   ]
  },
  {
   "cell_type": "code",
   "execution_count": null,
   "id": "946e5473",
   "metadata": {},
   "outputs": [],
   "source": []
  },
  {
   "cell_type": "code",
   "execution_count": 3,
   "id": "ceb70ae8",
   "metadata": {},
   "outputs": [
    {
     "name": "stdout",
     "output_type": "stream",
     "text": [
      "hello welcome pem\n"
     ]
    }
   ],
   "source": [
    "\n",
    "print(\"hello welcome {name}\".format(name=\"pem\"))"
   ]
  },
  {
   "cell_type": "code",
   "execution_count": 8,
   "id": "0909ff89",
   "metadata": {},
   "outputs": [
    {
     "name": "stdout",
     "output_type": "stream",
     "text": [
      "[1, 2, 3, 'hello']\n",
      "[1, 2, 3, 'hello', 'h', 'e', 'l', 'l', 'o']\n",
      "[1, 'pemmi', 2, 3, 'hello', 'h', 'e', 'l', 'l', 'o']\n"
     ]
    }
   ],
   "source": [
    "a=[1,2,3]\n",
    "a.append(\"hello\")\n",
    "print(a)\n",
    "\n",
    "a.extend(\"hello\")\n",
    "print(a)\n",
    "a.insert(1,\"pemmi\")\n",
    "print(a)"
   ]
  },
  {
   "cell_type": "code",
   "execution_count": null,
   "id": "2b658650",
   "metadata": {},
   "outputs": [],
   "source": []
  }
 ],
 "metadata": {
  "kernelspec": {
   "display_name": "Python 3 (ipykernel)",
   "language": "python",
   "name": "python3"
  },
  "language_info": {
   "codemirror_mode": {
    "name": "ipython",
    "version": 3
   },
   "file_extension": ".py",
   "mimetype": "text/x-python",
   "name": "python",
   "nbconvert_exporter": "python",
   "pygments_lexer": "ipython3",
   "version": "3.11.1"
  }
 },
 "nbformat": 4,
 "nbformat_minor": 5
}
