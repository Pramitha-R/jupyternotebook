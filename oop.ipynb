{
 "cells": [
  {
   "cell_type": "code",
   "execution_count": 10,
   "id": "a1df5d6a",
   "metadata": {},
   "outputs": [
    {
     "name": "stdout",
     "output_type": "stream",
     "text": [
      "Registering pemmi\n",
      "Login\n",
      "2\n"
     ]
    }
   ],
   "source": [
    "class user:\n",
    "    \n",
    "    usersCount=0\n",
    "    def __init__(self,user_name,pwd):\n",
    "        self.user_name=user_name\n",
    "        self.pwd=pwd\n",
    "        user.usersCount+=1\n",
    "    def register(self):\n",
    "        print(\"Registering\",self.user_name)\n",
    "    def login(self):\n",
    "        print(\"Login\")\n",
    "\n",
    "class test:\n",
    "    user1=user(\"pemmi\",\"123\")\n",
    "    user2=user(\"marisha\",\"12344\")\n",
    "    user1.register()\n",
    "    user1.login()\n",
    "    print(user.usersCount)\n",
    "    "
   ]
  },
  {
   "cell_type": "code",
   "execution_count": 11,
   "id": "e66113b8",
   "metadata": {},
   "outputs": [],
   "source": [
    "#Inheritance"
   ]
  },
  {
   "cell_type": "code",
   "execution_count": 19,
   "id": "ac377578",
   "metadata": {},
   "outputs": [
    {
     "name": "stdout",
     "output_type": "stream",
     "text": [
      "Registering pemmi\n",
      "Login\n",
      "Hi studnet \n",
      "Hi faculty\n"
     ]
    }
   ],
   "source": [
    "class user:\n",
    "    \n",
    "    usersCount=0\n",
    "    def __init__(self,user_name,pwd):\n",
    "        self.user_name=user_name\n",
    "        self.pwd=pwd\n",
    "        user.usersCount+=1\n",
    "    def register(self):\n",
    "        print(\"Registering\",self.user_name)\n",
    "    def login(self):\n",
    "        print(\"Login\")\n",
    "\n",
    "class Student(user):\n",
    "    def greetStudent(self):\n",
    "        print(\"Hi studnet \")\n",
    "        \n",
    "class Faculty(user):\n",
    "    def greetFaculty(self):\n",
    "        print(\"Hi faculty\")\n",
    "    \n",
    "class test:\n",
    "    s1=Student(\"pemmi\",\"123\")\n",
    "    s2=Student(\"marisha\",\"12344\")\n",
    "    s1.register()\n",
    "    s1.login()\n",
    "    s1.greetStudent()\n",
    "    \n",
    "    f1=Faculty(\"science\",\"s1\")\n",
    "    f2=Faculty(\"arts\",\"s2\")\n",
    "    f1.greetFaculty()"
   ]
  },
  {
   "cell_type": "code",
   "execution_count": 34,
   "id": "18437013",
   "metadata": {},
   "outputs": [
    {
     "name": "stdout",
     "output_type": "stream",
     "text": [
      "kuku\n",
      "hello cat\n"
     ]
    }
   ],
   "source": [
    "#overRide\n",
    "\n",
    "class Animal:\n",
    "    def __init__(self,name,color):\n",
    "        self.name=name\n",
    "        self.color=color\n",
    "    def welcome(self):\n",
    "        print(\"hello animals\")\n",
    "class Cat(Animal):\n",
    "    def __init__(self,name,color,eyecolor):\n",
    "        super().__init__(name,color)\n",
    "        self.eyecolor=eyecolor\n",
    "    def welcome(self):\n",
    "        print(\"hello cat\")    \n",
    "class test:\n",
    "    c1=Cat(\"kuku\",\"black\",\"blue\")\n",
    "    print(c1.name)\n",
    "    c1.welcome()\n",
    "    \n",
    "    \n",
    "    "
   ]
  },
  {
   "cell_type": "code",
   "execution_count": 36,
   "id": "decf35ef",
   "metadata": {},
   "outputs": [],
   "source": [
    "#Abstraction Class\n",
    "\n",
    "class Vehicle:\n",
    "    def"
   ]
  },
  {
   "cell_type": "code",
   "execution_count": 41,
   "id": "d58a27e9",
   "metadata": {},
   "outputs": [
    {
     "ename": "ModuleNotFoundError",
     "evalue": "No module named 'wel'",
     "output_type": "error",
     "traceback": [
      "\u001b[1;31m---------------------------------------------------------------------------\u001b[0m",
      "\u001b[1;31mModuleNotFoundError\u001b[0m                       Traceback (most recent call last)",
      "Cell \u001b[1;32mIn[41], line 8\u001b[0m\n\u001b[0;32m      4\u001b[0m             \u001b[38;5;28mprint\u001b[39m(\u001b[38;5;124m\"\u001b[39m\u001b[38;5;124mcan run directly\u001b[39m\u001b[38;5;124m\"\u001b[39m)\n\u001b[0;32m      6\u001b[0m         \u001b[38;5;28mprint\u001b[39m(\u001b[38;5;124m\"\u001b[39m\u001b[38;5;124mjust print\u001b[39m\u001b[38;5;124m\"\u001b[39m)\n\u001b[1;32m----> 8\u001b[0m \u001b[38;5;28;43;01mclass\u001b[39;49;00m\u001b[43m \u001b[49m\u001b[38;5;21;43;01mB\u001b[39;49;00m\u001b[43m:\u001b[49m\n\u001b[0;32m      9\u001b[0m \u001b[43m    \u001b[49m\u001b[38;5;28;43;01mimport\u001b[39;49;00m\u001b[43m \u001b[49m\u001b[38;5;21;43;01mwel\u001b[39;49;00m\n\u001b[0;32m     10\u001b[0m \u001b[43m    \u001b[49m\u001b[43mwel\u001b[49m\u001b[38;5;241;43m.\u001b[39;49m\u001b[43mwel\u001b[49m\u001b[43m(\u001b[49m\u001b[43m)\u001b[49m\n",
      "Cell \u001b[1;32mIn[41], line 9\u001b[0m, in \u001b[0;36mB\u001b[1;34m()\u001b[0m\n\u001b[0;32m      8\u001b[0m \u001b[38;5;28;01mclass\u001b[39;00m \u001b[38;5;21;01mB\u001b[39;00m:\n\u001b[1;32m----> 9\u001b[0m     \u001b[38;5;28;01mimport\u001b[39;00m \u001b[38;5;21;01mwel\u001b[39;00m\n\u001b[0;32m     10\u001b[0m     wel\u001b[38;5;241m.\u001b[39mwel()\n",
      "\u001b[1;31mModuleNotFoundError\u001b[0m: No module named 'wel'"
     ]
    }
   ],
   "source": [
    "class A:\n",
    "    def wel():\n",
    "        if __name__=='__main__':\n",
    "            print(\"can run directly\")\n",
    "        \n",
    "        print(\"just print\")\n",
    "    \n"
   ]
  },
  {
   "cell_type": "code",
   "execution_count": null,
   "id": "aeb64c7f",
   "metadata": {},
   "outputs": [],
   "source": [
    "#lambda"
   ]
  },
  {
   "cell_type": "code",
   "execution_count": 42,
   "id": "0e756953",
   "metadata": {},
   "outputs": [
    {
     "name": "stdout",
     "output_type": "stream",
     "text": [
      "11\n"
     ]
    }
   ],
   "source": [
    "f=lambda x:3*x+5\n",
    "print(f(2))"
   ]
  },
  {
   "cell_type": "code",
   "execution_count": null,
   "id": "26336d56",
   "metadata": {},
   "outputs": [],
   "source": []
  }
 ],
 "metadata": {
  "kernelspec": {
   "display_name": "Python 3 (ipykernel)",
   "language": "python",
   "name": "python3"
  },
  "language_info": {
   "codemirror_mode": {
    "name": "ipython",
    "version": 3
   },
   "file_extension": ".py",
   "mimetype": "text/x-python",
   "name": "python",
   "nbconvert_exporter": "python",
   "pygments_lexer": "ipython3",
   "version": "3.11.1"
  }
 },
 "nbformat": 4,
 "nbformat_minor": 5
}
